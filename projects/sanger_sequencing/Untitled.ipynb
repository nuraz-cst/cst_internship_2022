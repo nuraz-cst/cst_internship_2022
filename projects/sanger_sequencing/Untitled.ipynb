{
 "cells": [
  {
   "cell_type": "markdown",
   "id": "074c4849-eabb-4634-87e7-48548767e473",
   "metadata": {},
   "source": [
    "<h1 style=\"font-size:3rem;color:orange;\">2022 Cell Signaling Technology Internship"
   ]
  },
  {
   "cell_type": "markdown",
   "id": "d3bf5581-c88e-415e-acd7-b462ea02724c",
   "metadata": {},
   "source": [
    "# Nuraz Waris"
   ]
  },
  {
   "cell_type": "code",
   "execution_count": 6,
   "id": "9ffb097b-1264-4cd1-990b-afc54f9634d3",
   "metadata": {},
   "outputs": [
    {
     "name": "stdout",
     "output_type": "stream",
     "text": [
      "This Jupyter Notebook is a cumulation of every project and assignment I have worked on during my time interning at Cell Signaling Technology.\n"
     ]
    }
   ],
   "source": [
    "print(\"This Jupyter Notebook is a cumulation of every project and assignment I have worked on during my time interning at Cell Signaling Technology.\")"
   ]
  }
 ],
 "metadata": {
  "kernelspec": {
   "display_name": "Python 3 (ipykernel)",
   "language": "python",
   "name": "python3"
  },
  "language_info": {
   "codemirror_mode": {
    "name": "ipython",
    "version": 3
   },
   "file_extension": ".py",
   "mimetype": "text/x-python",
   "name": "python",
   "nbconvert_exporter": "python",
   "pygments_lexer": "ipython3",
   "version": "3.10.4"
  }
 },
 "nbformat": 4,
 "nbformat_minor": 5
}
